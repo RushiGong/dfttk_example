{
 "cells": [
  {
   "cell_type": "markdown",
   "id": "3c6afd9c",
   "metadata": {},
   "source": [
    "# DFTTK Example for Al"
   ]
  },
  {
   "cell_type": "markdown",
   "id": "1da02df0",
   "metadata": {},
   "source": [
    "## Introduction"
   ]
  },
  {
   "cell_type": "code",
   "execution_count": 40,
   "id": "acb0bacd",
   "metadata": {
    "scrolled": true
   },
   "outputs": [
    {
     "name": "stdout",
     "output_type": "stream",
     "text": [
      "DFTTK version: 0.3.2+372.g27acc3f\r\n",
      "Copyright © Phases Research Lab (https://www.phaseslab.com/)\r\n",
      "\r\n",
      "usage: dfttk [-h] {run,config,db_remove,thelec,thfind,EVfind} ...\r\n",
      "\r\n",
      "Run DFTTK jobs.\r\n",
      "\r\n",
      "positional arguments:\r\n",
      "  {run,config,db_remove,thelec,thfind,EVfind}\r\n",
      "    run                 Run dfttk.\r\n",
      "    config              Config dfttk.\r\n",
      "    db_remove           Remove data in MongoDb.\r\n",
      "    thelec              Postprocess DFTTK results after DFT job completed.\r\n",
      "    thfind              Check the dfttk DFT calculation results followed by\r\n",
      "                        calling the 'thelec' module to get thermodynamic\r\n",
      "                        properties when the option '-get' is given.\r\n",
      "    EVfind              Find the metadata tags that have 0 K static calculaton\r\n",
      "                        finished.\r\n",
      "\r\n",
      "optional arguments:\r\n",
      "  -h, --help            show this help message and exit\r\n"
     ]
    }
   ],
   "source": [
    "! dfttk -h"
   ]
  },
  {
   "cell_type": "markdown",
   "id": "9a6632d0",
   "metadata": {},
   "source": [
    "## Run DFTTK\n",
    "\n",
    "### Input\n",
    "* Structure file of Al (POSCAR)\n",
    "\n",
    "```\n",
    "Al1      \n",
    "4.10      \n",
    "0 0.5 0.5 \n",
    "0.5 0 0.5 \n",
    "0.5 0.5 0 \n",
    "Al       \n",
    "1        \n",
    "direct   \n",
    "0 0 0 Al  \n",
    "```\n",
    "* Setting file (SETTINGS.yaml)\n",
    "\n",
    "```yaml\n",
    "phonon : True\n",
    "phonon_supercell_matrix : [[-3, 3, 3], [3, -3, 3], [3, 3, -3]]\n",
    "```\n",
    "Prepare POSCAR and SETTINGS.yaml file and put them in the same directory. Then run following commands to start the workflow.\n"
   ]
  },
  {
   "cell_type": "markdown",
   "id": "d90dfe69",
   "metadata": {},
   "source": [
    "### DFTTK run module\n",
    "\n"
   ]
  },
  {
   "cell_type": "markdown",
   "id": "96aebe61",
   "metadata": {},
   "source": [
    "Use `-wf` to specify the workflow to run, here we use `robust` workflow. Use `-f` to specify the strucutre file, here the name of the structure file is `POSCAR`. Use `-s` to specify the setting file, here the setting file is `SETTINGS.yaml`. Use -l to launch the workflow to launchpad. For more options, please refer to `dfttk run -h`\n",
    "\n"
   ]
  },
  {
   "cell_type": "code",
   "execution_count": 1,
   "id": "3edeef39",
   "metadata": {},
   "outputs": [
    {
     "name": "stdout",
     "output_type": "stream",
     "text": [
      "DFTTK version: 0.3.2+372.g27acc3f\n",
      "Copyright © Phases Research Lab (https://www.phaseslab.com/)\n",
      "\n",
      "2021-10-08 14:11:09,905 INFO Added a workflow. id_map: {-4: 6261, -3: 6262, -2: 6263, -1: 6264}\n"
     ]
    }
   ],
   "source": [
    "! dfttk run -wf robust -f POSCAR -s SETTINGS -l"
   ]
  },
  {
   "cell_type": "markdown",
   "id": "794088c8",
   "metadata": {},
   "source": [
    "To launch the DFT batch job in the computers that VASP installed, you can use `qlaunch singleshot`"
   ]
  },
  {
   "cell_type": "markdown",
   "id": "a086ff10",
   "metadata": {},
   "source": [
    "To manage workflow and check the status of your work, you can use `lpad` command. For more options, please refer to `lpad -h`"
   ]
  },
  {
   "cell_type": "code",
   "execution_count": 5,
   "id": "30e2f296",
   "metadata": {},
   "outputs": [
    {
     "name": "stdout",
     "output_type": "stream",
     "text": [
      "[\r\n",
      "    {\r\n",
      "        \"state\": \"RUNNING\",\r\n",
      "        \"name\": \"Al:EV_QHA--6264\",\r\n",
      "        \"created_on\": \"2021-10-08T18:11:09.780000\",\r\n",
      "        \"states_list\": \"W-W-W-RUN\"\r\n",
      "    },\r\n",
      "    {\r\n",
      "        \"state\": \"RUNNING\",\r\n",
      "        \"name\": \"Zn6Ru:EV_QHA--6249\",\r\n",
      "        \"created_on\": \"2021-10-05T17:42:36.799000\",\r\n",
      "        \"states_list\": \"W-W-RUN\"\r\n",
      "    },\r\n",
      "    {\r\n",
      "        \"state\": \"RUNNING\",\r\n",
      "        \"name\": \"Zn22Ru:EV_QHA_Append--5734\",\r\n",
      "        \"created_on\": \"2021-09-14T19:16:53.416000\",\r\n",
      "        \"states_list\": \"W-C-C-C-W-RUN-C\"\r\n",
      "    },\r\n",
      "    {\r\n",
      "        \"state\": \"RUNNING\",\r\n",
      "        \"name\": \"Zn22Ru:EV_QHA_Append--5728\",\r\n",
      "        \"created_on\": \"2021-09-14T12:39:49.698000\",\r\n",
      "        \"states_list\": \"W-W-RUN-C-W-RUN-C\"\r\n",
      "    }\r\n",
      "]\r\n"
     ]
    }
   ],
   "source": [
    "! lpad get_wflows -s RUNNING"
   ]
  },
  {
   "cell_type": "markdown",
   "id": "7efe62d9",
   "metadata": {},
   "source": [
    "## Plot thermodynamic properties"
   ]
  },
  {
   "cell_type": "markdown",
   "id": "ed421b43",
   "metadata": {},
   "source": [
    "Use `dfttk thfind` to check the completed task."
   ]
  },
  {
   "cell_type": "code",
   "execution_count": 4,
   "id": "cae994d7",
   "metadata": {
    "scrolled": true
   },
   "outputs": [
    {
     "name": "stdout",
     "output_type": "stream",
     "text": [
      "DFTTK version: 0.3.2+372.g27acc3f\n",
      "Copyright © Phases Research Lab (https://www.phaseslab.com/)\n",
      "\n",
      "\n",
      "found complete calculations in the collection: phonon \n",
      "\n",
      "{'tag': '428621f2-f44f-4c92-b307-04a89c77da5f'}, phonon: 13, static: 13, SN:  16, qha_phonon: T, ZnPd_P4.mmm_123PBE\n",
      "{'tag': 'a715a62f-bfa7-4d95-bffb-41d56865c488'}, phonon: 13, static: 13, SN:  16, qha_phonon: T, ZnPd_P4.mmm_123PBE#0\n",
      "{'tag': '6b23d6a5-d15c-46de-be2f-f021159e852d'}, phonon:  8, static:  8, SN:  52, qha_phonon: T, Zn8Pd5_I-43m_217PBE\n",
      "{'tag': 'fa5e4e62-91b0-4c62-acff-26ae851da38b'}, phonon:  9, static:  9, SN:  33, qha_phonon: T, ZnPd10_P-1_2PBE\n",
      "{'tag': '76dd7e4c-9c8e-4f8e-8083-b4aaa6218eb9'}, phonon:  8, static:  8, SN:  27, qha_phonon: F, ZnPd8_P-31m_162PBE\n",
      "{'tag': '3c01629a-b287-41f5-8826-d77912f54177'}, phonon:  7, static:  8, SN:  64, qha_phonon: T, Al_Fm-3m_225PBE\n",
      "{'tag': 'db521c56-bd17-4b15-9887-ff964f0c6f7c'}, phonon:  7, static:  7, SN:  90, qha_phonon: T, Al3Ru2_I4.mmm_139PBE\n",
      "{'tag': '48623a91-47ac-4054-b46b-2e23c3f82bff'}, phonon:  8, static:  8, SN:  40, qha_phonon: T, Al3Ru2_P-3m1_164PBE#0\n",
      "{'tag': '6af91aef-5034-4fc2-a4d3-69b68f3d41ac'}, phonon:  7, static:  7, SN:  54, qha_phonon: T, AlRu_Pm-3m_221PBE\n",
      "{'tag': 'e946153c-a542-4293-a1a2-be9b143f16b7'}, phonon:  8, static:  8, SN:  56, qha_phonon: T, Al6Ru_Cmcm_63PBE\n",
      "{'tag': '9746b356-75e4-474a-acce-f297c1fabef2'}, phonon:  7, static:  7, SN:  96, qha_phonon: T, Al2Ru_Fddd_70PBE\n",
      "{'tag': '86ffaca5-6695-45b2-94a8-381d317355a3'}, phonon:  7, static:  7, SN: 128, qha_phonon: T, Ru_P6_3.mmc_194PBE#0\n",
      "\n",
      "11/15 qha_phonon successful under the given searching conditions.\n"
     ]
    }
   ],
   "source": [
    "! dfttk thfind"
   ]
  },
  {
   "cell_type": "markdown",
   "id": "88247cf2",
   "metadata": {},
   "source": [
    "Check the tag for the workflow for Al. Then use `dfttk thfind` to plot all thermodynamic properties based on DFTTK results. For more options, please refer to ` dfttk thfind -h` "
   ]
  },
  {
   "cell_type": "code",
   "execution_count": 9,
   "id": "f8a9632c",
   "metadata": {},
   "outputs": [
    {
     "name": "stdout",
     "output_type": "stream",
     "text": [
      "DFTTK version: 0.3.2+372.g27acc3f\n",
      "Copyright © Phases Research Lab (https://www.phaseslab.com/)\n",
      "\n",
      "\n",
      "found complete calculations in the collection: phonon \n",
      "\n",
      "{'tag': '3c01629a-b287-41f5-8826-d77912f54177'}, phonon:  7, static:  8, SN:  64, qha_phonon: T, Al_Fm-3m_225PBE\n",
      "\n",
      "1/1 qha_phonon successful under the given searching conditions.\n",
      "\n",
      "Downloading data by metadata tag: 3c01629a-b287-41f5-8826-d77912f54177 \n",
      "\n",
      "Postprocess for thermodynamic properties, Seebeck, Lorenz number etc.\n",
      "\n",
      "Full Formula (Al1)\n",
      "Reduced Formula: Al\n",
      "abc   :   3.034716   3.034716   3.034716\n",
      "angles:  60.000000  60.000000  60.000000\n",
      "Sites (1)\n",
      "  #  SP      a    b    c\n",
      "---  ----  ---  ---  ---\n",
      "  0  Al      0    0    0\n",
      "\n",
      "\n",
      "niggli reduced structure Full Formula (Al1)\n",
      "Reduced Formula: Al\n",
      "abc   :   3.034716   3.034716   3.034716\n",
      "angles:  60.000000  60.000000  60.000000\n",
      "Sites (1)\n",
      "  #  SP      a    b    c\n",
      "---  ----  ---  ---  ---\n",
      "  0  Al      0    0    0\n",
      "\n",
      "\n",
      "found volumes from static calculations: [14.01001023 14.83413091 15.65825442 16.48236788 17.30648625 18.13061497\n",
      " 18.95471961 19.76236909]\n",
      "\n",
      "vasp version for the static calculation is: 5.4.1  for  3c01629a-b287-41f5-8826-d77912f54177 \n",
      "\n",
      "\n",
      "Trying to get quasiharmonic mode : phonon... \n",
      "\n",
      "Checking compatibility between qha/Yphon data and static calculation:\n",
      "\n",
      "[14.01001023 14.83413091 15.65825442 16.48236788 17.30648625 18.13061497\n",
      " 18.95471961]\n",
      "14.010010232382502 -3.62447747\n",
      "14.834130911322955 -3.69741671\n",
      "15.658254415471019 -3.73510252\n",
      "16.482367881197995 -3.74615732\n",
      "17.306486246672808 -3.73698319\n",
      "18.13061496777078 -3.71266821\n",
      "18.95471961182057 -3.67716803\n",
      "/Users/thea/Desktop/dfttk/dfttk/pythelec.py:1567: UserWarning: \n",
      "Warning! The static/qha calculations are not inconsistent! Let me see if I can resolve it\n",
      "\n",
      "  warnings.warn(\"\\nWarning! The static/qha calculations are not inconsistent! Let me see if I can resolve it\\n\")\n",
      "data in static calculation with volume= 19.762369086074827 is discarded\n",
      "\n",
      "OK, I found some data that I can try\n",
      "\n",
      "#Bandgap= 0.0 eV at volume= 14.010010232382502 Angstrom^3/cell. Fermi energy was shifted 0.0 due to doping of 0 resulting Ne=2.9979997398298264 \n",
      "#Bandgap= 0.0 eV at volume= 14.834130911322955 Angstrom^3/cell. Fermi energy was shifted 0.0 due to doping of 0 resulting Ne=2.9987315043844656 \n",
      "#Bandgap= 0.0 eV at volume= 15.658254415471019 Angstrom^3/cell. Fermi energy was shifted 0.0 due to doping of 0 resulting Ne=2.998598470264004 \n",
      "#Bandgap= 0.0 eV at volume= 16.482367881197995 Angstrom^3/cell. Fermi energy was shifted 0.0 due to doping of 0 resulting Ne=2.9986313831863676 \n",
      "#Bandgap= 0.0 eV at volume= 17.306486246672808 Angstrom^3/cell. Fermi energy was shifted 0.0 due to doping of 0 resulting Ne=2.9986341316615253 \n",
      "#Bandgap= 0.0 eV at volume= 18.13061496777078 Angstrom^3/cell. Fermi energy was shifted 0.0 due to doping of 0 resulting Ne=2.9985516206393226 \n",
      "#Bandgap= 0.0 eV at volume= 18.95471961182057 Angstrom^3/cell. Fermi energy was shifted 0.0 due to doping of 0 resulting Ne=2.998345009003938 \n",
      "\n",
      "Full thermodynamic properties have outputed into: Al_Fm-3m_225PBE/fvib_ele\n",
      "All figures will be outputed into:  Al_Fm-3m_225PBE/figures   with T uplimt: None \n",
      "\n",
      "Enjoy!\n",
      "\n",
      "{\n",
      "    \"Cp (J/mol-atom/K)\": \"Cp(T) = +209.661 -0.501879*T +0.000363526*T*T -5.98562e+06/T/T\",\n",
      "    \"G-H298.15 (J/mol-atom)\": \"G(T) = -63629.9 +1275.86*T -209.661*T*log(T) +0.250939*T*T -6.05876e-05*T*T*T +2.99281e+06/T\",\n",
      "    \"H-H298.15 (J/mol-atom)\": \"H(T) = -63629.9 +209.661*T -0.250939*T*T +0.000121175*T*T*T +5.98562e+06/T\",\n",
      "    \"S (J/mol-atom/K)\": \"S(T) = -1066.2 +209.661*log(T) -0.501879*T +0.000181763*T*T +2.99281e+06/T/T\",\n",
      "    \"fitting uncertainty\": 15.2\n",
      "}\n"
     ]
    }
   ],
   "source": [
    "! dfttk thfind -tag 3c01629a-b287-41f5-8826-d77912f54177 -get -plot DFTTK -fitF -expt ExptData.json"
   ]
  },
  {
   "cell_type": "code",
   "execution_count": null,
   "id": "880a8ee8",
   "metadata": {},
   "outputs": [],
   "source": []
  }
 ],
 "metadata": {
  "kernelspec": {
   "display_name": "Python 3 (ipykernel)",
   "language": "python",
   "name": "python3"
  },
  "language_info": {
   "codemirror_mode": {
    "name": "ipython",
    "version": 3
   },
   "file_extension": ".py",
   "mimetype": "text/x-python",
   "name": "python",
   "nbconvert_exporter": "python",
   "pygments_lexer": "ipython3",
   "version": "3.8.11"
  }
 },
 "nbformat": 4,
 "nbformat_minor": 5
}
