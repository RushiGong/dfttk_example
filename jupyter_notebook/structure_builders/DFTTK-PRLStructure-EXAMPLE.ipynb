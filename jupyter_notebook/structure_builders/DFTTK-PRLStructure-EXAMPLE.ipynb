{
 "cells": [
  {
   "cell_type": "markdown",
   "id": "2c3f1904",
   "metadata": {},
   "source": [
    "# Example of using PRLStructure function to get sublattice information"
   ]
  },
  {
   "cell_type": "code",
   "execution_count": 1,
   "id": "0d5a5892",
   "metadata": {},
   "outputs": [
    {
     "name": "stderr",
     "output_type": "stream",
     "text": [
      "/Users/thea/opt/anaconda3/envs/dfttk-dev/lib/python3.8/site-packages/maggma/utils.py:20: TqdmExperimentalWarning: Using `tqdm.autonotebook.tqdm` in notebook mode. Use `tqdm.tqdm` instead to force console mode (e.g. in jupyter console)\n",
      "  from tqdm.autonotebook import tqdm\n"
     ]
    }
   ],
   "source": [
    "from dfttk.structure_builders import PRLStructure\n",
    "from pymatgen.core import Structure\n",
    "from pymatgen.symmetry.analyzer import SpacegroupAnalyzer"
   ]
  },
  {
   "cell_type": "code",
   "execution_count": 2,
   "id": "eaed1128",
   "metadata": {},
   "outputs": [],
   "source": [
    "SIGMA_POSCAR = \"\"\"H10 H4 H16\n",
    "1.0\n",
    "1.900000 0.000000 0.000000\n",
    "-0.000000 1.900000 0.000000\n",
    "0.000000 0.000000 1.000000\n",
    "B H C H  Y\n",
    "1 1 2 24 2\n",
    "direct\n",
    "0.000000 0.000000 0.500000 B\n",
    "0.500000 0.500000 0.000000 H\n",
    "0.561000 0.235000 0.000000 C\n",
    "0.235000 0.561000 0.000000 C\n",
    "-0.235000 -0.561000 0.000000 H\n",
    "-0.561000 -0.235000 0.000000 H\n",
    "1.061000 0.265000 -0.500000 H\n",
    "0.265000 1.061000 -0.500000 H\n",
    "0.735000 -0.061000 -0.500000 H\n",
    "-0.061000 0.735000 -0.500000 H\n",
    "0.103000 0.103000 0.000000 H\n",
    "-0.103000 -0.103000 0.000000 H\n",
    "0.603000 0.397000 -0.500000 H\n",
    "0.397000 0.603000 -0.500000 H\n",
    "0.318000 0.318000 0.730000 H\n",
    "-0.318000 -0.318000 0.730000 H\n",
    "0.318000 0.318000 0.270000 H\n",
    "-0.318000 -0.318000 0.270000 H\n",
    "0.818000 0.182000 0.230000 H\n",
    "0.182000 0.818000 0.230000 H\n",
    "0.818000 0.182000 -0.230000 H\n",
    "0.182000 0.818000 -0.230000 H\n",
    "0.367000 0.038000 0.000000 H\n",
    "0.038000 0.367000 0.000000 H\n",
    "-0.038000 -0.367000 0.000000 H\n",
    "-0.367000 -0.038000 0.000000 H\n",
    "0.867000 0.462000 -0.500000 H\n",
    "0.462000 0.867000 -0.500000 H\n",
    "0.538000 0.133000 -0.500000 Y\n",
    "0.133000 0.538000 -0.500000 Y\n",
    "    \"\"\""
   ]
  },
  {
   "cell_type": "code",
   "execution_count": 3,
   "id": "7f7878a8",
   "metadata": {},
   "outputs": [
    {
     "name": "stdout",
     "output_type": "stream",
     "text": [
      "wyckoff positions ['b', 'f', 'i', 'j']\n"
     ]
    }
   ],
   "source": [
    "structure = Structure.from_str(SIGMA_POSCAR, fmt='POSCAR')\n",
    "structure.replace_species({sp.name: \"H\" for sp in structure.species})\n",
    "sga = SpacegroupAnalyzer(structure)\n",
    "wyckoff_sites = sga.get_symmetry_dataset()['wyckoffs']\n",
    "true_sublattices = sorted(set(wyckoff_sites))\n",
    "print('wyckoff positions', true_sublattices)"
   ]
  },
  {
   "cell_type": "code",
   "execution_count": 4,
   "id": "fbdde957",
   "metadata": {},
   "outputs": [
    {
     "data": {
      "text/plain": [
       "[['B', 'H'], ['H'], ['C', 'H', 'Y'], ['H']]"
      ]
     },
     "execution_count": 4,
     "metadata": {},
     "output_type": "execute_result"
    }
   ],
   "source": [
    "s = Structure.from_str(SIGMA_POSCAR, fmt='POSCAR')\n",
    "ps = PRLStructure.from_structure(s)\n",
    "ps.sublattice_configuration"
   ]
  },
  {
   "cell_type": "code",
   "execution_count": 5,
   "id": "e3c666d0",
   "metadata": {},
   "outputs": [
    {
     "data": {
      "text/plain": [
       "[['B', 'H'], ['H'], ['C', 'H', 'Y']]"
      ]
     },
     "execution_count": 5,
     "metadata": {},
     "output_type": "execute_result"
    }
   ],
   "source": [
    "ps = PRLStructure.from_structure(s, [['b', 'j']])\n",
    "ps.sublattice_configuration"
   ]
  },
  {
   "cell_type": "code",
   "execution_count": null,
   "id": "27f0dca7",
   "metadata": {},
   "outputs": [],
   "source": []
  }
 ],
 "metadata": {
  "kernelspec": {
   "display_name": "Python 3 (ipykernel)",
   "language": "python",
   "name": "python3"
  },
  "language_info": {
   "codemirror_mode": {
    "name": "ipython",
    "version": 3
   },
   "file_extension": ".py",
   "mimetype": "text/x-python",
   "name": "python",
   "nbconvert_exporter": "python",
   "pygments_lexer": "ipython3",
   "version": "3.8.12"
  }
 },
 "nbformat": 4,
 "nbformat_minor": 5
}
